{
 "cells": [
  {
   "cell_type": "code",
   "execution_count": 8,
   "metadata": {},
   "outputs": [
    {
     "name": "stdout",
     "output_type": "stream",
     "text": [
      "6442450944\n",
      "0\n"
     ]
    }
   ],
   "source": [
    "import torch\n",
    "print(torch.cuda.get_device_properties(0).total_memory)\n",
    "c = torch.cuda.memory_cached(0)\n",
    "a = torch.cuda.memory_allocated(0)\n",
    "f = c-a  # free inside cache\n",
    "print(f)"
   ]
  },
  {
   "cell_type": "code",
   "execution_count": 9,
   "metadata": {},
   "outputs": [
    {
     "name": "stdout",
     "output_type": "stream",
     "text": [
      "total    : 6442450944\n",
      "free     : 6345981952\n",
      "used     : 96468992\n"
     ]
    }
   ],
   "source": [
    "from pynvml import *\n",
    "nvmlInit()\n",
    "h = nvmlDeviceGetHandleByIndex(0)\n",
    "info = nvmlDeviceGetMemoryInfo(h)\n",
    "print(f'total    : {info.total}')\n",
    "print(f'free     : {info.free}')\n",
    "print(f'used     : {info.used}')"
   ]
  },
  {
   "cell_type": "code",
   "execution_count": 1,
   "metadata": {},
   "outputs": [],
   "source": [
    "import argparse\n",
    "import os\n",
    "import time\n",
    "import pdb\n",
    "from tqdm import tqdm\n",
    "import numpy as np\n",
    "import torch\n",
    "import torch.nn as nn\n",
    "import torch.nn.functional as F\n",
    "import torch.optim as optim\n",
    "from torch.optim.lr_scheduler import StepLR\n",
    "import mlflow\n",
    "import pandas as pd\n",
    "import matplotlib.pyplot as plt\n",
    "import seaborn as sn\n",
    "\n",
    "from datasets import RoomsDataset_mk2\n",
    "from pointnet import PointNetSeg\n",
    "from utils import get_s3d_num2cat\n",
    "from sklearn.metrics import confusion_matrix, precision_recall_fscore_support"
   ]
  },
  {
   "cell_type": "code",
   "execution_count": 28,
   "metadata": {},
   "outputs": [],
   "source": [
    "class RoomsDataset_mk3:\n",
    "    def __init__(self, path, npoints=4096, slicing_sizes=(1.0, 1.0, 1.0)):\n",
    "        self.path = path\n",
    "        self.npoints = npoints\n",
    "        self.slicing_sizes = slicing_sizes\n",
    "        self.generate_boxes()\n",
    "        self.size = len(self.boxes)\n",
    "\n",
    "    def __len__(self):\n",
    "            return self.size\n",
    "\n",
    "    def generate_boxes(self):\n",
    "        points = np.loadtxt(self.path, skiprows=1)[:, :3]\n",
    "        self.boxes = []\n",
    "        mins = np.min(points, axis=0)\n",
    "        maxs = np.max(points, axis=0)\n",
    "        ranges = maxs-mins\n",
    "        ns=(ranges/np.array(self.slicing_sizes)).astype(np.int64)\n",
    "        for ix in range(ns[0]):\n",
    "            for iy in range(ns[1]):\n",
    "                for iz in range(ns[2]):\n",
    "                    x_indices = (mins[0]+self.slicing_sizes[0]*ix<points[:, 0]) * (mins[0]+self.slicing_sizes[0]*(ix+1)>points[:, 0])\n",
    "                    y_indices = (mins[1]+self.slicing_sizes[1]*iy<points[:, 1]) * (mins[1]+self.slicing_sizes[1]*(iy+1)>points[:, 1])\n",
    "                    z_indices = (mins[2]+self.slicing_sizes[2]*iz<points[:, 2]) * (mins[2]+self.slicing_sizes[2]*(iz+1)>points[:, 2])\n",
    "                    indices = x_indices*y_indices*z_indices\n",
    "                    if np.sum(indices) == 0:\n",
    "                        continue\n",
    "                    self.boxes.append(points[indices, :])\n",
    "\n",
    "                    \n",
    "    def __getitem__(self, idx):\n",
    "        choice = np.random.choice(self.boxes[idx].shape[0], self.npoints, replace=True)\n",
    "        return scale_linear_bycolumn(self.boxes[idx][choice, :]), self.boxes[idx][choice, :]\n",
    "    \n",
    "    \n",
    "def scale_linear_bycolumn(rawdata, high=1.0, low=0.0):\n",
    "    mins = np.min(rawdata, axis=0)\n",
    "    maxs = np.max(rawdata, axis=0)\n",
    "    rng = maxs - mins\n",
    "    return high - (high-low)*(maxs-rawdata)/(rng+np.finfo(np.float32).eps)\n",
    "\n",
    "def xyzl_to_xyzrgb(xyzl):\n",
    "    \"\"\"\n",
    "        input: coordinates + label\n",
    "        output: coordinates + rgb\n",
    "    \"\"\"\n",
    "    from matplotlib import cm\n",
    "    classes = np.unique(xyzl[:, -1]).astype(np.int32)\n",
    "    cmap = cm.get_cmap('jet')\n",
    "\n",
    "    colored = []\n",
    "    for i, class_num in enumerate(classes):\n",
    "        classed_points = xyzl[xyzl[:, -1]==class_num].astype(np.float)\n",
    "        colors = np.zeros((classed_points.shape[0], 3))\n",
    "        colors[:] = cmap(i / len(classes))[:-1]\n",
    "        colored.append(np.concatenate([classed_points[:, :3], colors], axis=1))\n",
    "        \n",
    "    return np.concatenate(colored, axis=0)\n",
    "    "
   ]
  },
  {
   "cell_type": "code",
   "execution_count": 3,
   "metadata": {},
   "outputs": [],
   "source": [
    "num2cat = get_s3d_num2cat()\n",
    "num_classes = len(list(num2cat))\n",
    "classifier = PointNetSeg(k=num_classes)\n",
    "classifier.load_state_dict(torch.load(\"Roma_s3dis3_model_10.pth\"))"
   ]
  },
  {
   "cell_type": "code",
   "execution_count": 4,
   "metadata": {},
   "outputs": [],
   "source": [
    "# device = torch.device('cuda' if torch.cuda.is_available() else 'cpu')\n",
    "device = torch.device('cpu')\n",
    "classifier = classifier.to(device)"
   ]
  },
  {
   "cell_type": "code",
   "execution_count": 5,
   "metadata": {},
   "outputs": [],
   "source": [
    "dataset = RoomsDataset_mk3(path='205_3.pts', npoints=4096)\n",
    "dataloader = torch.utils.data.DataLoader(dataset, \n",
    "                                         batch_size=30, \n",
    "                                         shuffle=False, \n",
    "                                         num_workers=0)\n",
    "\n",
    "classifier = classifier.eval()"
   ]
  },
  {
   "cell_type": "code",
   "execution_count": 6,
   "metadata": {},
   "outputs": [],
   "source": [
    "# CPU only\n",
    "processed = []\n",
    "for i, data in enumerate(dataloader):\n",
    "    scaled_points, initial_points = data\n",
    "    points = scaled_points.to(device).float()\n",
    "    points = points.transpose(2, 1)\n",
    "    pred, _ = classifier(points)\n",
    "    del points\n",
    "    classes = pred.view(-1, num_classes).data.max(1)[1]\n",
    "    classes = classes.to(\"cpu\").unsqueeze(0).numpy().T\n",
    "    processed.append(np.concatenate([initial_points.view(-1, 3), classes], axis=1))\n",
    "\n",
    "processed = np.concatenate(processed, axis=0)\n",
    "np.savetxt(\"labeled.pts\", processed)\n",
    "colored = xyzl_to_xyzrgb(processed)\n",
    "np.savetxt(\"colored.pts\", colored)"
   ]
  },
  {
   "cell_type": "code",
   "execution_count": 11,
   "metadata": {
    "scrolled": true
   },
   "outputs": [
    {
     "name": "stderr",
     "output_type": "stream",
     "text": [
      "100%|███████████████████████████████████████████████████████████████████████████████| 196/196 [00:01<00:00, 107.99it/s]\n"
     ]
    }
   ],
   "source": [
    "processed = []\n",
    "for i in tqdm(range(len(dataset))):\n",
    "    initial_points, notscaled__points = dataset[i]\n",
    "    points = torch.from_numpy(initial_points).to(device).float()\n",
    "    points = points.unsqueeze(0)\n",
    "    points = points.transpose(2, 1)\n",
    "    \n",
    "    pred, _ = classifier(points)\n",
    "    classes = pred.view(-1, num_classes).data.max(1)[1]\n",
    "    classes = classes.to(\"cpu\").unsqueeze(0).numpy().T\n",
    "    processed.append(np.concatenate([notscaled__points, classes], axis=1))\n",
    "    \n",
    "np.savetxt(\"labeled.pts\", np.concatenate(processed, axis=0))"
   ]
  },
  {
   "cell_type": "code",
   "execution_count": 85,
   "metadata": {},
   "outputs": [],
   "source": []
  },
  {
   "cell_type": "code",
   "execution_count": null,
   "metadata": {},
   "outputs": [],
   "source": [
    "np.savetxt(\"labeled.pts\", np.concatenate(processed, axis=0))"
   ]
  }
 ],
 "metadata": {
  "kernelspec": {
   "display_name": "Python 3",
   "language": "python",
   "name": "python3"
  },
  "language_info": {
   "codemirror_mode": {
    "name": "ipython",
    "version": 3
   },
   "file_extension": ".py",
   "mimetype": "text/x-python",
   "name": "python",
   "nbconvert_exporter": "python",
   "pygments_lexer": "ipython3",
   "version": "3.6.6"
  }
 },
 "nbformat": 4,
 "nbformat_minor": 2
}
